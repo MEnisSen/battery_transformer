{
 "cells": [
  {
   "cell_type": "code",
   "execution_count": 1,
   "metadata": {},
   "outputs": [],
   "source": [
    "import numpy as np\n",
    "import pandas as pd\n",
    "import torch\n",
    "import torch.nn as nn\n",
    "import torch.nn.functional as F\n",
    "import torch.optim as optim\n",
    "import subprocess, time, psutil\n",
    "import matplotlib.pyplot as plt\n",
    "from torch.utils.data import DataLoader, Dataset\n",
    "from sklearn.preprocessing import StandardScaler\n",
    "from sklearn.model_selection import train_test_split\n",
    "from sklearn.metrics import mean_absolute_error, mean_squared_error, r2_score\n",
    "from scipy.stats import pearsonr\n",
    "import torch\n",
    "import torch.nn as nn\n",
    "import torch.optim as optim\n",
    "from torch.utils.data import DataLoader, Dataset\n",
    "\n",
    "from utils import SOHTransformer, load_and_proc_data, monitor_idle_gpu_cpu, train_model, evaluate_model, SOHDataset"
   ]
  },
  {
   "cell_type": "code",
   "execution_count": 2,
   "metadata": {},
   "outputs": [],
   "source": [
    "import os\n",
    "directory = \"data/battery_scaled\"\n",
    "file_list = sorted([directory+'/'+f for f in os.listdir(directory) if f.endswith(\".csv\")])\n",
    "targets = ['available_capacity (Ah)']\n",
    "\n",
    "SEQ_LEN = 100\n",
    "BATCH_SIZE = 32\n",
    "features = ['soc', 'pack_voltage (V)', 'charge_current (A)', 'max_temperature (℃)', 'min_temperature (℃)', 'available_capacity (Ah)']\n",
    "NUM_FEATURES = len(features)\n",
    "\n",
    "data = torch.load('test_dataset.pt')\n",
    "X_loaded = data['X']\n",
    "y_loaded = data['y']\n",
    "\n",
    "# Recreate dataset and dataloader\n",
    "test_dataset = SOHDataset(X_loaded, y_loaded)\n",
    "test_loader = torch.utils.data.DataLoader(test_dataset, batch_size=32)\n"
   ]
  },
  {
   "cell_type": "code",
   "execution_count": 3,
   "metadata": {},
   "outputs": [
    {
     "name": "stdout",
     "output_type": "stream",
     "text": [
      "(315489, 100)\n",
      "(315489, 100)\n",
      "\n",
      "Test RMSE: 0.0576\n",
      "Test MAE: 0.0476\n",
      "Test R²: -2.0817\n",
      "Test MAPE: 5.02%\n",
      "Test PCC: [0.27528563 0.20793125 0.24225906 0.3450083  0.21802141 0.37699237\n",
      " 0.17546828 0.26003024 0.18918964 0.14990918 0.42578757 0.30090287\n",
      " 0.27320704 0.20488797 0.30934715 0.22497496 0.22929202 0.06072526\n",
      " 0.21936087 0.3386822  0.19494925 0.325458   0.21058853 0.22069784\n",
      " 0.22903699 0.2425692  0.29556462 0.20305851 0.18625961 0.24783058\n",
      " 0.2502866  0.25450507 0.11561643 0.2581497  0.23352452 0.36990076\n",
      " 0.34495425 0.23090436 0.18514085 0.2181188  0.20306647 0.32639265\n",
      " 0.16045551 0.24342038 0.2003804  0.28882945 0.20917036 0.25154078\n",
      " 0.28746894 0.35607427 0.19362657 0.30212557 0.22896296 0.25328755\n",
      " 0.18837245 0.25202653 0.29953194 0.22039646 0.32010978 0.16916154\n",
      " 0.22987683 0.1310169  0.2568001  0.29352695 0.22615981 0.21167281\n",
      " 0.28567585 0.26155412 0.39076898 0.21598808 0.20822525 0.3189998\n",
      " 0.3242127  0.21438614 0.34488532 0.26006946 0.1609829  0.31486255\n",
      " 0.28398195 0.14102611 0.27343756 0.32139057 0.14493008 0.21948299\n",
      " 0.3996176  0.25709605 0.24381006 0.22746453 0.2521189  0.42538768\n",
      " 0.18480948 0.21971822 0.33465865 0.29966605 0.27060306 0.21351272\n",
      " 0.29688415 0.2895403  0.2111036  0.297415  ]\n",
      "Test MDA: 0.00037335019220283047\n"
     ]
    }
   ],
   "source": [
    "device = torch.device(\"cuda\" if torch.cuda.is_available() else \"cpu\")\n",
    "\n",
    "model = SOHTransformer(input_dim=NUM_FEATURES, embed_dim=256).to(device)\n",
    "\n",
    "criterion = nn.MSELoss()\n",
    "optimizer = optim.AdamW(model.parameters(), lr=5e-5, weight_decay=1e-4)\n",
    "\n",
    "evaluate_model(model, test_loader, \"models/best_TRANSFORMER_SUNUM.pth\", 'outputs/error_results_TRANSFORMER_SUNUM.txt', 'transformer_SUNUM', plot_fig = False, device=device)\n"
   ]
  },
  {
   "cell_type": "code",
   "execution_count": null,
   "metadata": {},
   "outputs": [],
   "source": []
  }
 ],
 "metadata": {
  "kernelspec": {
   "display_name": ".venv",
   "language": "python",
   "name": "python3"
  },
  "language_info": {
   "codemirror_mode": {
    "name": "ipython",
    "version": 3
   },
   "file_extension": ".py",
   "mimetype": "text/x-python",
   "name": "python",
   "nbconvert_exporter": "python",
   "pygments_lexer": "ipython3",
   "version": "3.12.7"
  }
 },
 "nbformat": 4,
 "nbformat_minor": 2
}
