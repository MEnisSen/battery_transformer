{
 "cells": [
  {
   "metadata": {
    "ExecuteTime": {
     "end_time": "2025-03-24T11:25:44.221835Z",
     "start_time": "2025-03-24T11:25:38.502180Z"
    }
   },
   "cell_type": "code",
   "source": [
    "import torch\n",
    "print(torch.cuda.is_available())"
   ],
   "id": "307304413a6f15cb",
   "outputs": [
    {
     "name": "stdout",
     "output_type": "stream",
     "text": [
      "True\n"
     ]
    }
   ],
   "execution_count": 1
  },
  {
   "cell_type": "markdown",
   "id": "368bd41c",
   "metadata": {},
   "source": [
    "# Class"
   ]
  },
  {
   "cell_type": "code",
   "id": "a70ed150",
   "metadata": {
    "ExecuteTime": {
     "end_time": "2025-03-24T11:25:44.269090Z",
     "start_time": "2025-03-24T11:25:44.241502Z"
    }
   },
   "source": [
    "import torch\n",
    "import torch.nn as nn\n",
    "import torch.nn.functional as F\n",
    "import torch.optim as optim\n",
    "\n",
    "# ------------------------------\n",
    "# Custom Truncated Normal Initialization\n",
    "# ------------------------------\n",
    "def truncated_normal_(tensor, mean=0.0, std=0.2, a=-2.0, b=2.0):\n",
    "    \"\"\"\n",
    "    Custom truncated normal initialization.\n",
    "    This method ensures values stay within the range [a, b].\n",
    "    \"\"\"\n",
    "    lower, upper = (a - mean) / std, (b - mean) / std\n",
    "    tensor.data = torch.distributions.Normal(mean, std).rsample(tensor.shape)\n",
    "    tensor.data = torch.clip(tensor.data, min=a, max=b)\n",
    "    return tensor\n",
    "\n",
    "# ------------------------------\n",
    "# Input Embedding Module (CNN-Based)\n",
    "# ------------------------------\n",
    "class InputEmbedding(nn.Module):\n",
    "    def __init__(self, input_dim, embed_dim=256, kernel_sizes=[4, 3], strides=[2, 2]):\n",
    "        super(InputEmbedding, self).__init__()\n",
    "        \n",
    "        self.conv1 = nn.Conv1d(input_dim, embed_dim, kernel_sizes[0], stride=strides[0])\n",
    "        self.bn1 = nn.BatchNorm1d(embed_dim)\n",
    "        self.relu = nn.ReLU()\n",
    "        \n",
    "        self.conv2 = nn.Conv1d(embed_dim, embed_dim, kernel_sizes[1], stride=strides[1])\n",
    "        self.bn2 = nn.BatchNorm1d(embed_dim)\n",
    "\n",
    "        self.cls_token = nn.Parameter(truncated_normal_(torch.empty(1, 1, embed_dim)))\n",
    "        self.pos_embedding = nn.Parameter(truncated_normal_(torch.empty(1, embed_dim + 1, embed_dim)))\n",
    "\n",
    "    def forward(self, x):\n",
    "        \"\"\"\n",
    "        x: (batch_size, channels, time_steps)\n",
    "        Output: (batch_size, seq_len+1, embed_dim)\n",
    "        \"\"\"\n",
    "        x = self.relu(self.bn1(self.conv1(x)))\n",
    "        x = self.relu(self.bn2(self.conv2(x)))\n",
    "\n",
    "        x = x.permute(0, 2, 1)  # Reshape for transformer (batch_size, seq_len, embed_dim)\n",
    "\n",
    "        batch_size = x.shape[0]\n",
    "        cls_tokens = self.cls_token.expand(batch_size, -1, -1)\n",
    "        x = torch.cat((cls_tokens, x), dim=1)\n",
    "\n",
    "        x = x + self.pos_embedding[:, :x.shape[1], :]\n",
    "\n",
    "        return x\n",
    "\n",
    "# ------------------------------\n",
    "# Multi-Head Self-Attention\n",
    "# ------------------------------\n",
    "class MultiHeadSelfAttention(nn.Module):\n",
    "    def __init__(self, embed_dim, num_heads, attn_dropout=0.1):\n",
    "        super().__init__()\n",
    "        assert embed_dim % num_heads == 0, \"Embedding dimension must be divisible by number of heads\"\n",
    "        \n",
    "        self.num_heads = num_heads\n",
    "        self.head_dim = embed_dim // num_heads\n",
    "\n",
    "        self.qkv_proj = nn.Linear(embed_dim, 3 * embed_dim)\n",
    "        self.out_proj = nn.Linear(embed_dim, embed_dim)\n",
    "        self.attn_dropout = nn.Dropout(attn_dropout)\n",
    "\n",
    "    def forward(self, x, mask=None):\n",
    "        batch_size, seq_len, embed_dim = x.shape\n",
    "\n",
    "        qkv = self.qkv_proj(x)\n",
    "        q, k, v = torch.chunk(qkv, 3, dim=-1)\n",
    "\n",
    "        q = q.view(batch_size, seq_len, self.num_heads, self.head_dim).transpose(1, 2)\n",
    "        k = k.view(batch_size, seq_len, self.num_heads, self.head_dim).transpose(1, 2)\n",
    "        v = v.view(batch_size, seq_len, self.num_heads, self.head_dim).transpose(1, 2)\n",
    "\n",
    "        attn_scores = torch.matmul(q, k.transpose(-2, -1)) / (self.head_dim ** 0.5)\n",
    "\n",
    "        if mask is not None:\n",
    "            attn_scores = attn_scores.masked_fill(mask == 0, float('-inf'))\n",
    "\n",
    "        attn_weights = F.softmax(attn_scores, dim=-1)\n",
    "        attn_weights = self.attn_dropout(attn_weights)\n",
    "\n",
    "        attn_output = torch.matmul(attn_weights, v)\n",
    "        attn_output = attn_output.transpose(1, 2).contiguous().view(batch_size, seq_len, embed_dim)\n",
    "\n",
    "        return self.out_proj(attn_output)\n",
    "\n",
    "# ------------------------------\n",
    "# Feed-Forward Network (MLP Block)\n",
    "# ------------------------------\n",
    "class FeedForwardNetwork(nn.Module):\n",
    "    def __init__(self, embed_dim, ffn_dim, ffn_dropout=0.0):\n",
    "        super().__init__()\n",
    "        self.fc1 = nn.Linear(embed_dim, ffn_dim)\n",
    "        self.gelu = nn.GELU()\n",
    "        self.fc2 = nn.Linear(ffn_dim, embed_dim)\n",
    "        self.dropout = nn.Dropout(ffn_dropout)\n",
    "\n",
    "    def forward(self, x):\n",
    "        return self.dropout(self.fc2(self.gelu(self.fc1(x))))\n",
    "\n",
    "# ------------------------------\n",
    "# DropPath (Stochastic Depth)\n",
    "# ------------------------------\n",
    "class DropPath(nn.Module):\n",
    "    def __init__(self, drop_prob=None):\n",
    "        super(DropPath, self).__init__()\n",
    "        self.drop_prob = drop_prob\n",
    "\n",
    "    def forward(self, x):\n",
    "        if self.drop_prob == 0. or not self.training:\n",
    "            return x\n",
    "        keep_prob = 1 - self.drop_prob\n",
    "        random_tensor = keep_prob + torch.rand(x.shape, device=x.device)\n",
    "        random_tensor.floor_()\n",
    "        return x.div(keep_prob) * random_tensor\n",
    "\n",
    "# ------------------------------\n",
    "# Transformer Block\n",
    "# ------------------------------\n",
    "class TransformerBlock(nn.Module):\n",
    "    def __init__(self, embed_dim, num_heads=16, ffn_dim=1024, drop_path_rate=0.1, attn_dropout=0.1):\n",
    "        super().__init__()\n",
    "        self.norm1 = nn.LayerNorm(embed_dim)\n",
    "        self.attn = MultiHeadSelfAttention(embed_dim, num_heads, attn_dropout)\n",
    "        self.drop_path1 = DropPath(drop_path_rate)\n",
    "\n",
    "        self.norm2 = nn.LayerNorm(embed_dim)\n",
    "        self.ffn = FeedForwardNetwork(embed_dim, ffn_dim)\n",
    "        self.drop_path2 = DropPath(drop_path_rate)\n",
    "\n",
    "    def forward(self, x, mask=None):\n",
    "        x = x + self.drop_path1(self.attn(self.norm1(x), mask))\n",
    "        x = x + self.drop_path2(self.ffn(self.norm2(x)))\n",
    "        return x\n",
    "\n",
    "# ------------------------------\n",
    "# Transformer Encoder\n",
    "# ------------------------------\n",
    "class TransformerEncoder(nn.Module):\n",
    "    def __init__(self, embed_dim=256, num_blocks=4, num_heads=16, ffn_dim=1024, drop_path_rate=0.1):\n",
    "        super().__init__()\n",
    "        self.layers = nn.ModuleList([\n",
    "            TransformerBlock(embed_dim, num_heads, ffn_dim, drop_path_rate)\n",
    "            for _ in range(num_blocks)\n",
    "        ])\n",
    "\n",
    "    def forward(self, x, mask=None):\n",
    "        for layer in self.layers:\n",
    "            x = layer(x, mask)\n",
    "        return x\n",
    "\n",
    "# ------------------------------\n",
    "# SOH-TEC Model\n",
    "# ------------------------------\n",
    "class SOHTEC(nn.Module):\n",
    "    def __init__(self, input_dim=5, embed_dim=256, num_blocks=4, num_heads=16, ffn_dim=1024, drop_path_rate=0.1):\n",
    "        super(SOHTEC, self).__init__()\n",
    "\n",
    "        self.embedding = InputEmbedding(input_dim, embed_dim)\n",
    "        self.encoder = TransformerEncoder(embed_dim, num_blocks, num_heads, ffn_dim, drop_path_rate)\n",
    "        self.mlp_head = nn.Sequential(\n",
    "            nn.LayerNorm(embed_dim),\n",
    "            nn.Linear(embed_dim, embed_dim // 2),\n",
    "            nn.ReLU(),\n",
    "            nn.Linear(embed_dim // 2, 1)  # Regression output for SOH estimation\n",
    "        )\n",
    "\n",
    "    def forward(self, x):\n",
    "        x = self.embedding(x)\n",
    "        x = self.encoder(x)\n",
    "        return self.mlp_head(x[:, 0])  # Using CLS token for SOH prediction\n"
   ],
   "outputs": [],
   "execution_count": 2
  },
  {
   "cell_type": "markdown",
   "id": "696c683c",
   "metadata": {},
   "source": [
    "# Battery"
   ]
  },
  {
   "cell_type": "code",
   "id": "7f736469",
   "metadata": {
    "ExecuteTime": {
     "end_time": "2025-03-24T11:25:51.721213Z",
     "start_time": "2025-03-24T11:25:45.032792Z"
    }
   },
   "source": [
    "import pandas as pd\n",
    "import numpy as np\n",
    "import torch\n",
    "from torch.utils.data import DataLoader, Dataset\n",
    "from sklearn.preprocessing import StandardScaler\n",
    "\n",
    "device = torch.device(\"cuda\" if torch.cuda.is_available() else \"cpu\")\n",
    "\n",
    "df = pd.read_csv(\"data/battery/scaledData1_with_soh.csv\")\n",
    "\n",
    "features = ['pack_voltage (V)', 'charge_current (A)', 'max_temperature (℃)', 'min_temperature (℃)', 'soc']\n",
    "X = df[features].values\n",
    "\n",
    "y = df[\"soh (%)\"].values if \"soh (%)\" in df.columns else None\n",
    "\n",
    "scaler_data = StandardScaler()\n",
    "X = scaler_data.fit_transform(X)\n",
    "y = y / 100\n",
    "\n",
    "SEQ_LEN = 100\n",
    "NUM_FEATURES = len(features)\n",
    "\n",
    "def create_sequences(X, y, seq_len):\n",
    "    sequences = []\n",
    "    targets = []\n",
    "    \n",
    "    for i in range(0, len(X) - seq_len, seq_len):\n",
    "        sequences.append(X[i:i+seq_len])\n",
    "        if y is not None:\n",
    "            targets.append(y[i+seq_len-1])\n",
    "    \n",
    "    return np.array(sequences, dtype=np.float32), np.array(targets, dtype=np.float32)\n",
    "\n",
    "X_seq, y_seq = create_sequences(X, y, SEQ_LEN)\n",
    "\n",
    "train_size = int(0.8 * len(X_seq))\n",
    "val_size = int(0.1 * len(X_seq))\n",
    "test_size = len(X_seq) - train_size - val_size\n",
    "\n",
    "X_train, y_train = X_seq[:train_size], y_seq[:train_size]\n",
    "X_val, y_val = X_seq[train_size:train_size+val_size], y_seq[train_size:train_size+val_size]\n",
    "X_test, y_test = X_seq[train_size+val_size:], y_seq[train_size+val_size:]\n",
    "\n",
    "class SOHDataset(Dataset):\n",
    "    def __init__(self, X, y):\n",
    "        self.X = torch.tensor(X).permute(0, 2, 1)\n",
    "        self.y = torch.tensor(y).float()\n",
    "\n",
    "    def __len__(self):\n",
    "        return len(self.X)\n",
    "\n",
    "    def __getitem__(self, idx):\n",
    "        return self.X[idx], self.y[idx]\n",
    "\n",
    "train_dataset = SOHDataset(X_train, y_train)\n",
    "val_dataset = SOHDataset(X_val, y_val)\n",
    "test_dataset = SOHDataset(X_test, y_test)\n",
    "\n",
    "BATCH_SIZE = 32\n",
    "\n",
    "train_loader = DataLoader(train_dataset, batch_size=BATCH_SIZE, shuffle=False)  # No shuffle to preserve sequence order\n",
    "val_loader = DataLoader(val_dataset, batch_size=BATCH_SIZE)\n",
    "test_loader = DataLoader(test_dataset, batch_size=BATCH_SIZE)"
   ],
   "outputs": [],
   "execution_count": 3
  },
  {
   "cell_type": "code",
   "id": "b677fc00",
   "metadata": {
    "ExecuteTime": {
     "end_time": "2025-03-24T11:26:22.978066Z",
     "start_time": "2025-03-24T11:25:51.784363Z"
    }
   },
   "source": [
    "import torch.nn as nn\n",
    "import torch.optim as optim\n",
    "\n",
    "device = torch.device(\"cuda\" if torch.cuda.is_available() else \"cpu\")\n",
    "model = SOHTEC(input_dim=NUM_FEATURES, embed_dim=256).to(device)\n",
    "\n",
    "criterion = nn.MSELoss()\n",
    "optimizer = optim.AdamW(model.parameters(), lr=5e-5, weight_decay=1e-4)\n",
    "\n",
    "def train_model(model, train_loader, val_loader, criterion, optimizer, num_epochs=20):\n",
    "    best_val_loss = float(\"inf\")\n",
    "\n",
    "    for epoch in range(num_epochs):\n",
    "        model.train()\n",
    "        train_loss = 0.0\n",
    "\n",
    "        for batch_X, batch_y in train_loader:\n",
    "            batch_X, batch_y = batch_X.to(device), batch_y.to(device)\n",
    "\n",
    "            optimizer.zero_grad()\n",
    "            outputs = model(batch_X).squeeze()\n",
    "\n",
    "            loss = criterion(outputs, batch_y)\n",
    "            loss.backward()\n",
    "            optimizer.step()\n",
    "            train_loss += loss.item()\n",
    "\n",
    "        # Validation\n",
    "        model.eval()\n",
    "        val_loss = 0.0\n",
    "        with torch.no_grad():\n",
    "            for batch_X, batch_y in val_loader:\n",
    "                batch_X, batch_y = batch_X.to(device), batch_y.to(device)\n",
    "                outputs = model(batch_X).squeeze()\n",
    "                val_loss += criterion(outputs, batch_y).item()\n",
    "\n",
    "        train_loss /= len(train_loader)\n",
    "        val_loss /= len(val_loader)\n",
    "\n",
    "        print(f\"Epoch {epoch+1}/{num_epochs}: Train Loss: {train_loss:.4f}, Val Loss: {val_loss:.4f}\")\n",
    "\n",
    "        # Save best model\n",
    "        if val_loss < best_val_loss:\n",
    "            best_val_loss = val_loss\n",
    "            torch.save(model.state_dict(), \"best_soh_tec_model.pth\")\n",
    "\n",
    "# Train the model\n",
    "train_model(model, train_loader, val_loader, criterion, optimizer, num_epochs=20)"
   ],
   "outputs": [
    {
     "name": "stdout",
     "output_type": "stream",
     "text": [
      "Epoch 1/20: Train Loss: 0.0182, Val Loss: 0.0015\n",
      "Epoch 2/20: Train Loss: 0.0023, Val Loss: 0.0004\n",
      "Epoch 3/20: Train Loss: 0.0016, Val Loss: 0.0006\n",
      "Epoch 4/20: Train Loss: 0.0013, Val Loss: 0.0004\n",
      "Epoch 5/20: Train Loss: 0.0012, Val Loss: 0.0005\n",
      "Epoch 6/20: Train Loss: 0.0009, Val Loss: 0.0005\n",
      "Epoch 7/20: Train Loss: 0.0009, Val Loss: 0.0005\n",
      "Epoch 8/20: Train Loss: 0.0008, Val Loss: 0.0005\n",
      "Epoch 9/20: Train Loss: 0.0008, Val Loss: 0.0003\n",
      "Epoch 10/20: Train Loss: 0.0007, Val Loss: 0.0004\n",
      "Epoch 11/20: Train Loss: 0.0006, Val Loss: 0.0003\n",
      "Epoch 12/20: Train Loss: 0.0006, Val Loss: 0.0003\n",
      "Epoch 13/20: Train Loss: 0.0006, Val Loss: 0.0002\n",
      "Epoch 14/20: Train Loss: 0.0005, Val Loss: 0.0002\n",
      "Epoch 15/20: Train Loss: 0.0005, Val Loss: 0.0002\n",
      "Epoch 16/20: Train Loss: 0.0005, Val Loss: 0.0002\n",
      "Epoch 17/20: Train Loss: 0.0006, Val Loss: 0.0001\n",
      "Epoch 18/20: Train Loss: 0.0005, Val Loss: 0.0001\n",
      "Epoch 19/20: Train Loss: 0.0005, Val Loss: 0.0001\n",
      "Epoch 20/20: Train Loss: 0.0005, Val Loss: 0.0001\n"
     ]
    }
   ],
   "execution_count": 4
  },
  {
   "cell_type": "code",
   "id": "6fe30149",
   "metadata": {
    "ExecuteTime": {
     "end_time": "2025-03-24T11:26:23.398236Z",
     "start_time": "2025-03-24T11:26:22.994621Z"
    }
   },
   "source": [
    "from sklearn.metrics import mean_absolute_error, mean_squared_error, r2_score\n",
    "import numpy as np\n",
    "\n",
    "def evaluate_model(model, test_loader):\n",
    "    \n",
    "    model.eval()\n",
    "\n",
    "    all_preds, all_targets = [], []\n",
    "    with torch.no_grad():\n",
    "        for batch_X, batch_y in test_loader:\n",
    "            batch_X, batch_y = batch_X.to(device), batch_y.to(device)\n",
    "            outputs = model(batch_X).squeeze()\n",
    "\n",
    "            all_preds.append(outputs.cpu().numpy())\n",
    "            all_targets.append(batch_y.cpu().numpy())\n",
    "\n",
    "    all_preds = np.concatenate(all_preds)\n",
    "    all_targets = np.concatenate(all_targets)\n",
    "\n",
    "    rmse = np.sqrt(mean_squared_error(all_targets, all_preds))\n",
    "    mae = mean_absolute_error(all_targets, all_preds)\n",
    "    r2 = r2_score(all_targets, all_preds)\n",
    "\n",
    "    print(f\"Test RMSE: {rmse:.4f}\")\n",
    "    print(f\"Test MAE: {mae:.4f}\")\n",
    "    print(f\"Test R²: {r2:.4f}\")\n",
    "\n",
    "    return rmse, mae, r2\n",
    "\n",
    "# Evaluate model\n",
    "model.load_state_dict(torch.load(\"best_soh_tec_model.pth\"))\n",
    "rmse, mae, r2 = evaluate_model(model, test_loader)\n"
   ],
   "outputs": [
    {
     "name": "stdout",
     "output_type": "stream",
     "text": [
      "Test RMSE: 0.0182\n",
      "Test MAE: 0.0154\n",
      "Test R²: -13.2409\n"
     ]
    }
   ],
   "execution_count": 5
  },
  {
   "cell_type": "code",
   "id": "27909bfa",
   "metadata": {
    "ExecuteTime": {
     "end_time": "2025-03-24T11:26:23.430409Z",
     "start_time": "2025-03-24T11:26:23.414533Z"
    }
   },
   "source": [
    "import copy"
   ],
   "outputs": [],
   "execution_count": 6
  },
  {
   "cell_type": "markdown",
   "id": "2aeafac6",
   "metadata": {},
   "source": [
    "#### Pruning"
   ]
  },
  {
   "cell_type": "code",
   "id": "c3e0d158",
   "metadata": {
    "ExecuteTime": {
     "end_time": "2025-03-24T11:26:23.648195Z",
     "start_time": "2025-03-24T11:26:23.478590Z"
    }
   },
   "source": [
    "import torch.nn.utils.prune as prune\n",
    "\n",
    "def apply_pruning(model, amount=0.3):\n",
    "    for name, module in model.named_modules():\n",
    "        if isinstance(module, nn.Linear):\n",
    "            prune.l1_unstructured(module, name='weight', amount=amount)\n",
    "    return model\n",
    "\n",
    "model_pruned = copy.deepcopy(model)\n",
    "model_pruned = apply_pruning(model_pruned, amount=0.1)\n",
    "rmse_p, mae_p, r2_p = evaluate_model(model_pruned, test_loader)"
   ],
   "outputs": [
    {
     "name": "stdout",
     "output_type": "stream",
     "text": [
      "Test RMSE: 0.0168\n",
      "Test MAE: 0.0136\n",
      "Test R²: -11.2522\n"
     ]
    }
   ],
   "execution_count": 7
  },
  {
   "cell_type": "markdown",
   "id": "6de9d87b",
   "metadata": {},
   "source": [
    "#### Distillation"
   ]
  },
  {
   "cell_type": "code",
   "id": "5ee2cde0",
   "metadata": {
    "ExecuteTime": {
     "end_time": "2025-03-24T11:26:25.556700Z",
     "start_time": "2025-03-24T11:26:23.656472Z"
    }
   },
   "source": [
    "def train_student_model(teacher_model, student_model, train_loader, criterion, criterion_kd, optimizer, alpha=0.5, T=3.0):\n",
    "    teacher_model.eval()\n",
    "    student_model.train()\n",
    "\n",
    "    device = next(teacher_model.parameters()).device  # Get model device\n",
    "    \n",
    "    for batch_X, batch_y in train_loader:\n",
    "        batch_X, batch_y = batch_X.to(device), batch_y.to(device)  # Move inputs to the same device as model\n",
    "\n",
    "        optimizer.zero_grad()\n",
    "\n",
    "        with torch.no_grad():\n",
    "            soft_targets = torch.softmax(teacher_model(batch_X) / T, dim=1)  # Ensure input is on the same device\n",
    "\n",
    "        student_output = student_model(batch_X)  # Ensure input is on the same device\n",
    "        loss_hard = criterion(student_output, batch_y)\n",
    "        loss_soft = criterion_kd(torch.log_softmax(student_output / T, dim=1), soft_targets)\n",
    "\n",
    "        loss = alpha * loss_hard + (1 - alpha) * loss_soft\n",
    "        loss.backward()\n",
    "        optimizer.step()\n",
    "\n",
    "    return student_model\n",
    "\n",
    "student_model = SOHTEC(input_dim=NUM_FEATURES, embed_dim=128).to(device)\n",
    "criterion = nn.MSELoss()\n",
    "criterion_kd = nn.KLDivLoss(reduction='batchmean')\n",
    "optimizer = optim.AdamW(student_model.parameters(), lr=5e-5, weight_decay=1e-4)\n",
    "student_model = train_student_model(model, student_model, train_loader, criterion, criterion_kd, optimizer)\n",
    "\n",
    "rmse_d, mae_d, r2_d = evaluate_model(student_model, test_loader)"
   ],
   "outputs": [
    {
     "name": "stderr",
     "output_type": "stream",
     "text": [
      "C:\\Users\\serha\\PycharmProjects\\Temp\\.venv\\lib\\site-packages\\torch\\nn\\modules\\loss.py:610: UserWarning: Using a target size (torch.Size([32])) that is different to the input size (torch.Size([32, 1])). This will likely lead to incorrect results due to broadcasting. Please ensure they have the same size.\n",
      "  return F.mse_loss(input, target, reduction=self.reduction)\n"
     ]
    },
    {
     "name": "stdout",
     "output_type": "stream",
     "text": [
      "Test RMSE: 0.0417\n",
      "Test MAE: 0.0359\n",
      "Test R²: -74.2847\n"
     ]
    },
    {
     "name": "stderr",
     "output_type": "stream",
     "text": [
      "C:\\Users\\serha\\PycharmProjects\\Temp\\.venv\\lib\\site-packages\\torch\\nn\\modules\\loss.py:610: UserWarning: Using a target size (torch.Size([17])) that is different to the input size (torch.Size([17, 1])). This will likely lead to incorrect results due to broadcasting. Please ensure they have the same size.\n",
      "  return F.mse_loss(input, target, reduction=self.reduction)\n"
     ]
    }
   ],
   "execution_count": 8
  },
  {
   "cell_type": "markdown",
   "id": "66fbdec9",
   "metadata": {},
   "source": [
    "#### Quantization"
   ]
  },
  {
   "cell_type": "code",
   "id": "35eee142",
   "metadata": {
    "ExecuteTime": {
     "end_time": "2025-03-24T11:26:26.140027Z",
     "start_time": "2025-03-24T11:26:25.574550Z"
    }
   },
   "source": [
    "def apply_quantization(model):\n",
    "    model.cpu()  # Move model to CPU since dynamic quantization only works on CPU\n",
    "    quantized_model = torch.quantization.quantize_dynamic(\n",
    "        model, {torch.nn.Linear}, dtype=torch.qint8\n",
    "    )\n",
    "    return quantized_model\n",
    "\n",
    "def evaluate_model(model, test_loader, use_gpu=True):\n",
    "    \n",
    "    model.eval()\n",
    "\n",
    "    all_preds, all_targets = [], []\n",
    "    with torch.no_grad():\n",
    "        for batch_X, batch_y in test_loader:\n",
    "            if use_gpu:\n",
    "                batch_X, batch_y = batch_X.to(device), batch_y.to(device)\n",
    "            outputs = model(batch_X).squeeze()\n",
    "\n",
    "            all_preds.append(outputs.cpu().numpy())\n",
    "            all_targets.append(batch_y.cpu().numpy())\n",
    "\n",
    "    all_preds = np.concatenate(all_preds)\n",
    "    all_targets = np.concatenate(all_targets)\n",
    "\n",
    "    rmse = np.sqrt(mean_squared_error(all_targets, all_preds))\n",
    "    mae = mean_absolute_error(all_targets, all_preds)\n",
    "    r2 = r2_score(all_targets, all_preds)\n",
    "\n",
    "    print(f\"Test RMSE: {rmse:.4f}\")\n",
    "    print(f\"Test MAE: {mae:.4f}\")\n",
    "    print(f\"Test R²: {r2:.4f}\")\n",
    "\n",
    "    return rmse, mae, r2\n",
    "\n",
    "model_quantized = copy.deepcopy(model)\n",
    "model_quantized = apply_quantization(model_quantized)\n",
    "rmse_q, mae_q, r2_q = evaluate_model(model_quantized, test_loader, use_gpu=False)"
   ],
   "outputs": [
    {
     "name": "stdout",
     "output_type": "stream",
     "text": [
      "Test RMSE: 0.0178\n",
      "Test MAE: 0.0151\n",
      "Test R²: -12.7540\n"
     ]
    }
   ],
   "execution_count": 9
  },
  {
   "cell_type": "markdown",
   "id": "3c2d28d1",
   "metadata": {},
   "source": [
    "## Results"
   ]
  },
  {
   "cell_type": "code",
   "id": "a53c9703",
   "metadata": {
    "ExecuteTime": {
     "end_time": "2025-03-24T11:26:27.078587Z",
     "start_time": "2025-03-24T11:26:26.172456Z"
    }
   },
   "source": [
    "import matplotlib.pyplot as plt\n",
    "\n",
    "values = np.array([[rmse, rmse_p, rmse_d, rmse_q],\n",
    "                   [mae , mae_p , mae_d , mae_q],\n",
    "                   [r2  , r2_p  , r2_d  , r2_q]])\n",
    "\n",
    "bar_labels = ['Original', 'Pruned', 'Distill', 'Quantized']\n",
    "\n",
    "fig, axes = plt.subplots(1, 3, figsize=(15, 5), sharex=True)\n",
    "\n",
    "# RMSE Plot\n",
    "ax_rmse = axes[0]\n",
    "ax_rmse.bar(bar_labels, values[0], color=['blue', 'orange', 'green', 'red'])\n",
    "ax_rmse.set_title(\"RMSE\")\n",
    "ax_rmse.set_ylabel(\"Values\")\n",
    "ax_rmse.set_xlabel(\"Bars\")\n",
    "\n",
    "# MAE Plot\n",
    "ax_mae = axes[1]\n",
    "ax_mae.bar(bar_labels, values[1], color=['blue', 'orange', 'green', 'red'])\n",
    "ax_mae.set_title(\"MAE\")\n",
    "ax_mae.set_ylabel(\"Values\")\n",
    "ax_mae.set_xlabel(\"Bars\")\n",
    "\n",
    "# R2 Plot\n",
    "ax_r2 = axes[2]\n",
    "ax_r2.bar(bar_labels, values[2], color=['blue', 'orange', 'green', 'red'])\n",
    "ax_r2.set_title(\"R²\")\n",
    "ax_r2.set_ylabel(\"Values\")\n",
    "ax_r2.set_xlabel(\"Bars\")\n",
    "\n",
    "# Adjust layout and display\n",
    "plt.tight_layout()\n",
    "plt.show()\n"
   ],
   "outputs": [
    {
     "data": {
      "text/plain": [
       "<Figure size 1500x500 with 3 Axes>"
      ],
      "image/png": "[encoded data removed]"
     },
     "metadata": {},
     "output_type": "display_data"
    }
   ],
   "execution_count": 10
  },
  {
   "cell_type": "markdown",
   "id": "10a613c0",
   "metadata": {},
   "source": [
    "#### Monitoring"
   ]
  },
  {
   "cell_type": "code",
   "id": "8ae0ec54",
   "metadata": {
    "ExecuteTime": {
     "end_time": "2025-03-24T11:26:27.124238Z",
     "start_time": "2025-03-24T11:26:27.110551Z"
    }
   },
   "source": [
    "import subprocess, threading, time, psutil\n",
    "\n",
    "monitoring = True\n",
    "\n",
    "def monitor_idle_gpu_cpu(duration=10, interval=1):\n",
    "    \n",
    "    power_values = []\n",
    "    gpu_util_values = []\n",
    "    cpu_util_values = []\n",
    "    memory_used_values = []\n",
    "    \n",
    "    start_time = time.time()\n",
    "    \n",
    "    while time.time() - start_time < duration:\n",
    "        result = subprocess.run(\n",
    "            [\"nvidia-smi\", \"--query-gpu=power.draw,utilization.gpu,memory.used\", \"--format=csv,noheader,nounits\"],\n",
    "            capture_output=True, text=True\n",
    "        )\n",
    "        \n",
    "        power, gpu_util, memory_used = map(float, result.stdout.strip().split(\", \"))\n",
    "        cpu_util = psutil.cpu_percent(interval=0.1)\n",
    "        \n",
    "        power_values.append(power)\n",
    "        gpu_util_values.append(gpu_util)\n",
    "        cpu_util_values.append(cpu_util)\n",
    "        memory_used_values.append(memory_used)\n",
    "        \n",
    "        time.sleep(interval)\n",
    "    \n",
    "    avg_power = sum(power_values) / len(power_values)\n",
    "    avg_gpu_util = sum(gpu_util_values) / len(gpu_util_values)\n",
    "    avg_cpu_util = sum(cpu_util_values) / len(cpu_util_values)\n",
    "    memory_used_max = max(memory_used_values)\n",
    "    \n",
    "    return avg_power, avg_gpu_util, avg_cpu_util, memory_used_max\n",
    "\n",
    "def monitor_gpu(log_file = 'gpu_usage_log.csv', interval = 1):\n",
    "\n",
    "    query_params = [\n",
    "        \"timestamp\", \"power.draw\", \"memory.used\", \"memory.total\",\n",
    "        \"utilization.gpu\", \"utilization.memory\", \"temperature.gpu\",\n",
    "        \"fan.speed\", \"clocks.sm\", \"clocks.gr\"\n",
    "    ]\n",
    "    \n",
    "    query_str = \",\".join(query_params)\n",
    "    \n",
    "    with open(log_file, \"w\") as f:\n",
    "        f.write(\"Timestamp,Power (W),Memory Used (MB),Memory Total (MB),GPU Util (%),\"\n",
    "                \"Memory Util (%),Temp (C),Fan Speed (%),Clock SM (MHz),Clock Mem (MHz),\"\n",
    "                \"CPU Usage (%)\\n\")\n",
    "    \n",
    "    while monitoring:\n",
    "        result = subprocess.run(\n",
    "            [\"nvidia-smi\", \"--query-gpu=\" + query_str, \"--format=csv,noheader,nounits\"],\n",
    "            capture_output=True, text=True\n",
    "        )\n",
    "\n",
    "        gpu_data = list(map(float, result.stdout.strip().split(\", \")[1:]))\n",
    "        gpu_data[0] = gpu_data[0] - avg_power\n",
    "        timestamp = time.strftime(\"%Y-%m-%d %H:%M:%S\")\n",
    "        cpu_usage = psutil.cpu_percent() - avg_cpu_util\n",
    "        \n",
    "        log_entry = f\"{timestamp},\" + \",\".join(list(map(str, gpu_data))) + f\",{cpu_usage}\\n\"\n",
    "        \n",
    "        with open(log_file, \"a\") as f:\n",
    "            f.write(log_entry)\n",
    "\n",
    "        time.sleep(interval)"
   ],
   "outputs": [],
   "execution_count": 11
  },
  {
   "cell_type": "code",
   "id": "c05e6630",
   "metadata": {
    "ExecuteTime": {
     "end_time": "2025-03-24T11:26:46.760487Z",
     "start_time": "2025-03-24T11:26:27.156789Z"
    }
   },
   "source": [
    "avg_time = 10\n",
    "avg_power, avg_gpu_util, avg_cpu_util, memory_used_max = monitor_idle_gpu_cpu(duration=avg_time)\n",
    "\n",
    "print(f'\\nAverage values over {avg_time} seconds: \\nAVG_GPU_POWER = {avg_power}, AVG_GPU_UTIL = {avg_gpu_util}, AVG_CPU_UTIL = {avg_cpu_util}, MAX_MEMORY_UTIL = {memory_used_max}\\n')\n",
    "\n",
    "\n",
    "# Original ===============================================================================================\n",
    "\n",
    "monitor_thread = threading.Thread(target=monitor_gpu, args=('outputs/log_testing_original.csv', 0.01), daemon=True)\n",
    "monitor_thread.start()\n",
    "\n",
    "start_time = time.time()\n",
    "_, _, _ = evaluate_model(model, test_loader)\n",
    "print(f'Original : {time.time()-start_time} seconds\\n')\n",
    "\n",
    "monitoring = False\n",
    "time.sleep(2)\n",
    "monitoring = True\n",
    "\n",
    "# Pruned =================================================================================================\n",
    "\n",
    "monitor_thread = threading.Thread(target=monitor_gpu, args=('outputs/log_testing_pruned.csv', 0.01), daemon=True)\n",
    "monitor_thread.start()\n",
    "\n",
    "start_time = time.time()\n",
    "_, _, _ = evaluate_model(model_pruned, test_loader)\n",
    "print(f'Pruned : {time.time()-start_time} seconds\\n')\n",
    "\n",
    "monitoring = False\n",
    "time.sleep(2)\n",
    "monitoring = True\n",
    "\n",
    "# Distill ================================================================================================\n",
    "\n",
    "monitor_thread = threading.Thread(target=monitor_gpu, args=('outputs/log_testing_distill.csv', 0.01), daemon=True)\n",
    "monitor_thread.start()\n",
    "\n",
    "start_time = time.time()\n",
    "_, _, _ = evaluate_model(student_model, test_loader)\n",
    "print(f'Distill : {time.time()-start_time} seconds\\n')\n",
    "\n",
    "monitoring = False\n",
    "time.sleep(2)\n",
    "monitoring = True\n",
    "\n",
    "# Quantized ==============================================================================================\n",
    "\n",
    "monitor_thread = threading.Thread(target=monitor_gpu, args=('outputs/log_testing_quantized.csv', 0.01), daemon=True)\n",
    "monitor_thread.start()\n",
    "\n",
    "start_time = time.time()\n",
    "_, _, _ = evaluate_model(model_quantized, test_loader, use_gpu=False)\n",
    "print(f'Quantized : {time.time()-start_time} seconds\\n')\n",
    "\n",
    "monitoring = False\n",
    "time.sleep(2)\n",
    "monitoring = True"
   ],
   "outputs": [
    {
     "name": "stderr",
     "output_type": "stream",
     "text": [
      "Exception in thread Thread-21 (monitor_gpu):\n",
      "Traceback (most recent call last):\n",
      "  File \"C:\\Users\\serha\\AppData\\Local\\Programs\\Python\\Python310\\lib\\threading.py\", line 1016, in _bootstrap_inner\n",
      "    self.run()\n",
      "  File \"C:\\Users\\serha\\PycharmProjects\\Temp\\.venv\\lib\\site-packages\\ipykernel\\ipkernel.py\", line 766, in run_closure\n",
      "    _threading_Thread_run(self)\n",
      "  File \"C:\\Users\\serha\\AppData\\Local\\Programs\\Python\\Python310\\lib\\threading.py\", line 953, in run\n",
      "    self._target(*self._args, **self._kwargs)\n",
      "  File \"C:\\Users\\serha\\AppData\\Local\\Temp\\ipykernel_48744\\3663921341.py\", line 58, in monitor_gpu\n",
      "ValueError: could not convert string to float: '[N/A]'\n"
     ]
    },
    {
     "name": "stdout",
     "output_type": "stream",
     "text": [
      "\n",
      "Average values over 10 seconds: \n",
      "AVG_GPU_POWER = 18.0, AVG_GPU_UTIL = 19.444444444444443, AVG_CPU_UTIL = 8.544444444444444, MAX_MEMORY_UTIL = 2884.0\n",
      "\n",
      "Test RMSE: 0.0182\n",
      "Test MAE: 0.0154\n",
      "Test R²: -13.2409\n",
      "Original : 0.1866283416748047 seconds\n",
      "\n"
     ]
    },
    {
     "name": "stderr",
     "output_type": "stream",
     "text": [
      "Exception in thread Thread-24 (monitor_gpu):\n",
      "Traceback (most recent call last):\n",
      "  File \"C:\\Users\\serha\\AppData\\Local\\Programs\\Python\\Python310\\lib\\threading.py\", line 1016, in _bootstrap_inner\n",
      "    self.run()\n",
      "  File \"C:\\Users\\serha\\PycharmProjects\\Temp\\.venv\\lib\\site-packages\\ipykernel\\ipkernel.py\", line 766, in run_closure\n",
      "    _threading_Thread_run(self)\n",
      "  File \"C:\\Users\\serha\\AppData\\Local\\Programs\\Python\\Python310\\lib\\threading.py\", line 953, in run\n",
      "    self._target(*self._args, **self._kwargs)\n",
      "  File \"C:\\Users\\serha\\AppData\\Local\\Temp\\ipykernel_48744\\3663921341.py\", line 58, in monitor_gpu\n",
      "ValueError: could not convert string to float: '[N/A]'\n"
     ]
    },
    {
     "name": "stdout",
     "output_type": "stream",
     "text": [
      "Test RMSE: 0.0168\n",
      "Test MAE: 0.0136\n",
      "Test R²: -11.2522\n",
      "Pruned : 0.18201971054077148 seconds\n",
      "\n"
     ]
    },
    {
     "name": "stderr",
     "output_type": "stream",
     "text": [
      "Exception in thread Thread-27 (monitor_gpu):\n",
      "Traceback (most recent call last):\n",
      "  File \"C:\\Users\\serha\\AppData\\Local\\Programs\\Python\\Python310\\lib\\threading.py\", line 1016, in _bootstrap_inner\n",
      "    self.run()\n",
      "  File \"C:\\Users\\serha\\PycharmProjects\\Temp\\.venv\\lib\\site-packages\\ipykernel\\ipkernel.py\", line 766, in run_closure\n",
      "    _threading_Thread_run(self)\n",
      "  File \"C:\\Users\\serha\\AppData\\Local\\Programs\\Python\\Python310\\lib\\threading.py\", line 953, in run\n",
      "    self._target(*self._args, **self._kwargs)\n",
      "  File \"C:\\Users\\serha\\AppData\\Local\\Temp\\ipykernel_48744\\3663921341.py\", line 58, in monitor_gpu\n",
      "ValueError: could not convert string to float: '[N/A]'\n"
     ]
    },
    {
     "name": "stdout",
     "output_type": "stream",
     "text": [
      "Test RMSE: 0.0417\n",
      "Test MAE: 0.0359\n",
      "Test R²: -74.2847\n",
      "Distill : 0.18914151191711426 seconds\n",
      "\n"
     ]
    },
    {
     "name": "stderr",
     "output_type": "stream",
     "text": [
      "Exception in thread Thread-30 (monitor_gpu):\n",
      "Traceback (most recent call last):\n",
      "  File \"C:\\Users\\serha\\AppData\\Local\\Programs\\Python\\Python310\\lib\\threading.py\", line 1016, in _bootstrap_inner\n",
      "    self.run()\n",
      "  File \"C:\\Users\\serha\\PycharmProjects\\Temp\\.venv\\lib\\site-packages\\ipykernel\\ipkernel.py\", line 766, in run_closure\n",
      "    _threading_Thread_run(self)\n",
      "  File \"C:\\Users\\serha\\AppData\\Local\\Programs\\Python\\Python310\\lib\\threading.py\", line 953, in run\n",
      "    self._target(*self._args, **self._kwargs)\n",
      "  File \"C:\\Users\\serha\\AppData\\Local\\Temp\\ipykernel_48744\\3663921341.py\", line 58, in monitor_gpu\n",
      "ValueError: could not convert string to float: '[N/A]'\n"
     ]
    },
    {
     "name": "stdout",
     "output_type": "stream",
     "text": [
      "Test RMSE: 0.0178\n",
      "Test MAE: 0.0151\n",
      "Test R²: -12.7540\n",
      "Quantized : 0.4571995735168457 seconds\n",
      "\n"
     ]
    }
   ],
   "execution_count": 12
  },
  {
   "cell_type": "code",
   "id": "99d7f258",
   "metadata": {
    "ExecuteTime": {
     "end_time": "2025-03-24T11:26:46.823288Z",
     "start_time": "2025-03-24T11:26:46.791392Z"
    }
   },
   "source": [
    "def save_test_data(test_loader):\n",
    "    X_test, y_test = [], []\n",
    "    for batch_X, batch_y in test_loader:\n",
    "        X_test.append(batch_X)\n",
    "        y_test.append(batch_y)\n",
    "    \n",
    "    X_test = torch.cat(X_test)\n",
    "    y_test = torch.cat(y_test)\n",
    "    torch.save({\"X\": X_test, \"y\": y_test}, \"test_data/test_data.pt\")\n",
    "\n",
    "# Save model\n",
    "def save_model(model, path):\n",
    "    torch.save(model.state_dict(), path)\n",
    "\n",
    "save_model(model_quantized, \"models/quantized_soh_tec_model.pth\")\n",
    "#save_test_data(test_loader)"
   ],
   "outputs": [],
   "execution_count": 13
  },
  {
   "cell_type": "code",
   "id": "314ca6b1",
   "metadata": {
    "ExecuteTime": {
     "end_time": "2025-03-24T11:26:46.871116Z",
     "start_time": "2025-03-24T11:26:46.856256Z"
    }
   },
   "source": [],
   "outputs": [],
   "execution_count": null
  }
 ],
 "metadata": {
  "kernelspec": {
   "display_name": ".venv",
   "language": "python",
   "name": "python3"
  },
  "language_info": {
   "codemirror_mode": {
    "name": "ipython",
    "version": 3
   },
   "file_extension": ".py",
   "mimetype": "text/x-python",
   "name": "python",
   "nbconvert_exporter": "python",
   "pygments_lexer": "ipython3",
   "version": "3.12.7"
  }
 },
 "nbformat": 4,
 "nbformat_minor": 5
}
